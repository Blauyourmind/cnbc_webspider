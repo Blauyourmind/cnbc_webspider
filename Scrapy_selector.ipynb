{
 "cells": [
  {
   "cell_type": "code",
   "execution_count": 13,
   "metadata": {},
   "outputs": [],
   "source": [
    "from scrapy import Selector\n",
    "import requests"
   ]
  },
  {
   "cell_type": "code",
   "execution_count": 9,
   "metadata": {},
   "outputs": [],
   "source": [
    "# get HTML text \n",
    "html = \"\"\"\n",
    "<html>\n",
    "    <body>\n",
    "        <div class='hello datacamp'>\n",
    "            <p>Hello World!</p>\n",
    "        </div>\n",
    "        \n",
    "        <div>\n",
    "            <p> My name is michael blau</p>\n",
    "        </div>\n",
    "        \n",
    "    </body>\n",
    "</html>\n",
    "\"\"\"\n"
   ]
  },
  {
   "cell_type": "code",
   "execution_count": 10,
   "metadata": {},
   "outputs": [
    {
     "data": {
      "text/plain": [
       "['<p>Hello World!</p>', '<p> My name is michael blau</p>']"
      ]
     },
     "execution_count": 10,
     "metadata": {},
     "output_type": "execute_result"
    }
   ],
   "source": [
    "sel = Selector(text=html)\n",
    "sel.xpath('//p') # returns a selectorlist of Selectors\n",
    "\n",
    "# use extract method to extract text from the selectorlist\n",
    "sel.xpath('//p').extract()"
   ]
  },
  {
   "cell_type": "code",
   "execution_count": 24,
   "metadata": {},
   "outputs": [
    {
     "data": {
      "text/plain": [
       "['http://www.wustl.edu',\n",
       " 'http://www.wustl.edu',\n",
       " 'Private/main.aspx',\n",
       " 'https://aiswiki.wustl.edu/webstachelp/index.php/',\n",
       " '#ctl00_mnuHeadMenu_SkipLink',\n",
       " \"javascript:__doPostBack('ctl00$mnuHeadMenu','&nbsp;')\",\n",
       " \"javascript:__doPostBack('ctl00$btnClose','')\"]"
      ]
     },
     "execution_count": 24,
     "metadata": {},
     "output_type": "execute_result"
    }
   ],
   "source": [
    "# CSS Locator Practice\n",
    "page = requests.get('https://acadinfo.wustl.edu/WSHome/Generic.aspx?Type=Faces&Page=/apps/Faces/')\n",
    "sel = Selector(text=page.content)\n",
    "links = sel.css('a::attr(href)').extract()\n",
    "links"
   ]
  },
  {
   "cell_type": "code",
   "execution_count": null,
   "metadata": {},
   "outputs": [],
   "source": []
  }
 ],
 "metadata": {
  "kernelspec": {
   "display_name": "Python 3",
   "language": "python",
   "name": "python3"
  },
  "language_info": {
   "codemirror_mode": {
    "name": "ipython",
    "version": 3
   },
   "file_extension": ".py",
   "mimetype": "text/x-python",
   "name": "python",
   "nbconvert_exporter": "python",
   "pygments_lexer": "ipython3",
   "version": "3.7.3"
  }
 },
 "nbformat": 4,
 "nbformat_minor": 2
}
