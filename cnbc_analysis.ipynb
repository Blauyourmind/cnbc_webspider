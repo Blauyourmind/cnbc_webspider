{
 "cells": [
  {
   "cell_type": "code",
   "execution_count": 1,
   "metadata": {},
   "outputs": [],
   "source": [
    "import pandas as pd\n",
    "import matplotlib.pyplot as plt"
   ]
  },
  {
   "cell_type": "code",
   "execution_count": 12,
   "metadata": {},
   "outputs": [],
   "source": [
    "def preprocess(s, lower=True, strip_punc=True):\n",
    "    '''\n",
    "    Input: String, lower(Bool), strip_punc(Bool)\n",
    "    Output: List of Strings\n",
    "    '''\n",
    "    punc = '.-,?<>:;\"\\'!%'\n",
    "    if isinstance(s, str):\n",
    "        s = s.split() # tokenize text\n",
    "    if lower:\n",
    "        s = [t.lower() for t in s]\n",
    "    if strip_punc:\n",
    "        s = [t.strip(punc) for t in s]\n",
    "        \n",
    "    return s\n",
    "\n",
    "def token_frequency(tokens, tf= None, relative=False):\n",
    "    \"\"\"\n",
    "    Inputs: \n",
    "        tokens = List of Strings or None\n",
    "        tf = dict or None\n",
    "        relative = Boolean\n",
    "    Output: \n",
    "        Dictionary of a token frequencies\n",
    "    \"\"\"\n",
    "    tf = {} if tf==None else tf\n",
    "    \n",
    "    if len(tf) != 0 and relative==True:\n",
    "        if isinstance(list(tf.items())[0][1], float):\n",
    "            print('WARNING: Adding raw counts to relative frequency')\n",
    "            return tf\n",
    "        \n",
    "    for token in tokens:\n",
    "        if token in tf:\n",
    "            tf[token] += 1\n",
    "        else:\n",
    "            tf[token] = 1\n",
    "    \n",
    "    if relative:\n",
    "        total = sum([v for k,v in tf.items()])\n",
    "        tf = {k:v/total for k, v in tf.items()}\n",
    "          \n",
    "    return tf\n",
    "\n",
    "\n",
    "def calc_percent(headlines):\n",
    "    total = len(headlines)\n",
    "    count = 0\n",
    "    for h in headlines:\n",
    "        if 'coronavirus' in h or 'covid' in h:\n",
    "            count += 1\n",
    "    return round(count/total * 100, 2)\n",
    "\n",
    "def word_counts(headlines):\n",
    "    \"\"\"\n",
    "    Input: a list of headlines from news articles\n",
    "    Output: full word counts for all words from the articles\n",
    "    \"\"\"\n",
    "    # define empty dict to collect all words\n",
    "    tf = {}\n",
    "    \n",
    "    # preprocess all headlines\n",
    "    headlines = headlines.apply(lambda x: preprocess(x))\n",
    "    \n",
    "    # calc token frequency of all word tokens in headlines\n",
    "    headlines.apply(lambda x: token_frequency(x,tf=tf))\n",
    "    \n",
    "    # sort tokens by frequency \n",
    "    sorted_tokens = sorted(tf.items(), key= lambda x:x[1], reverse=True)\n",
    "    for token in sorted_tokens[:30]:\n",
    "        print(token)"
   ]
  },
  {
   "cell_type": "code",
   "execution_count": 13,
   "metadata": {},
   "outputs": [
    {
     "data": {
      "text/html": [
       "<div>\n",
       "<style scoped>\n",
       "    .dataframe tbody tr th:only-of-type {\n",
       "        vertical-align: middle;\n",
       "    }\n",
       "\n",
       "    .dataframe tbody tr th {\n",
       "        vertical-align: top;\n",
       "    }\n",
       "\n",
       "    .dataframe thead th {\n",
       "        text-align: right;\n",
       "    }\n",
       "</style>\n",
       "<table border=\"1\" class=\"dataframe\">\n",
       "  <thead>\n",
       "    <tr style=\"text-align: right;\">\n",
       "      <th></th>\n",
       "      <th>publish_date</th>\n",
       "      <th>headline</th>\n",
       "    </tr>\n",
       "  </thead>\n",
       "  <tbody>\n",
       "    <tr>\n",
       "      <th>4101</th>\n",
       "      <td>2020-04-22</td>\n",
       "      <td>[stock, market, live, updates, dow, up, 500, o...</td>\n",
       "    </tr>\n",
       "    <tr>\n",
       "      <th>4102</th>\n",
       "      <td>2020-04-22</td>\n",
       "      <td>[martin, shkreli, seeks, compassionate, releas...</td>\n",
       "    </tr>\n",
       "    <tr>\n",
       "      <th>4103</th>\n",
       "      <td>2020-04-22</td>\n",
       "      <td>[two-thirds, of, internships, are, canceled, h...</td>\n",
       "    </tr>\n",
       "    <tr>\n",
       "      <th>4104</th>\n",
       "      <td>2020-04-22</td>\n",
       "      <td>[investors, pick, tesla, over, gm, toyota, to,...</td>\n",
       "    </tr>\n",
       "    <tr>\n",
       "      <th>4105</th>\n",
       "      <td>2020-04-22</td>\n",
       "      <td>[coronavirus, live, updates, lockdowns, bring,...</td>\n",
       "    </tr>\n",
       "  </tbody>\n",
       "</table>\n",
       "</div>"
      ],
      "text/plain": [
       "     publish_date                                           headline\n",
       "4101   2020-04-22  [stock, market, live, updates, dow, up, 500, o...\n",
       "4102   2020-04-22  [martin, shkreli, seeks, compassionate, releas...\n",
       "4103   2020-04-22  [two-thirds, of, internships, are, canceled, h...\n",
       "4104   2020-04-22  [investors, pick, tesla, over, gm, toyota, to,...\n",
       "4105   2020-04-22  [coronavirus, live, updates, lockdowns, bring,..."
      ]
     },
     "execution_count": 13,
     "metadata": {},
     "output_type": "execute_result"
    }
   ],
   "source": [
    "# read in cnbc articles\n",
    "df = pd.read_csv('cnbc_news.csv',parse_dates=['publish_date'], index_col='publish_date').reset_index()\n",
    "\n",
    "# drop any rows with null\n",
    "df = df.dropna()\n",
    "\n",
    "# preprocess text in headlines\n",
    "df['headline'] = df['headline'].apply(lambda x: preprocess(x))\n",
    "df.tail()"
   ]
  },
  {
   "cell_type": "code",
   "execution_count": 14,
   "metadata": {},
   "outputs": [
    {
     "name": "stdout",
     "output_type": "stream",
     "text": [
      "publish_date\n",
      "2020-03-08    33.33\n",
      "2020-03-09    43.14\n",
      "2020-03-10    43.10\n",
      "2020-03-11    47.83\n",
      "2020-03-12    50.83\n",
      "2020-03-13    59.29\n",
      "2020-03-14    61.90\n",
      "2020-03-15    53.33\n",
      "2020-03-16    53.23\n",
      "2020-03-17    44.36\n",
      "2020-03-18    44.94\n",
      "2020-03-19    52.27\n",
      "2020-03-20    51.30\n",
      "2020-03-21    69.77\n",
      "2020-03-22    62.50\n",
      "2020-03-23    56.20\n",
      "2020-03-24    51.01\n",
      "2020-03-25    48.78\n",
      "2020-03-26    44.74\n",
      "2020-03-27    54.90\n",
      "2020-03-28    52.63\n",
      "2020-03-29    64.71\n",
      "2020-03-30    50.00\n",
      "2020-03-31    49.53\n",
      "2020-04-01    46.59\n",
      "2020-04-02    42.86\n",
      "2020-04-03    45.71\n",
      "2020-04-04    48.57\n",
      "2020-04-05    51.16\n",
      "2020-04-06    40.00\n",
      "2020-04-07    39.83\n",
      "2020-04-08    38.46\n",
      "2020-04-09    34.55\n",
      "2020-04-10    45.45\n",
      "2020-04-11    50.00\n",
      "2020-04-12    38.46\n",
      "2020-04-13    36.56\n",
      "2020-04-14    42.19\n",
      "2020-04-15    35.51\n",
      "2020-04-16    46.75\n",
      "2020-04-17    37.08\n",
      "2020-04-18    47.06\n",
      "2020-04-19    39.13\n",
      "2020-04-20    26.90\n",
      "2020-04-21    32.05\n",
      "2020-04-22    37.50\n",
      "Name: headline, dtype: float64\n"
     ]
    }
   ],
   "source": [
    "# calc % of headlines that include the word \"coronavirus\"\n",
    "percent_per_day = df.groupby('publish_date')['headline'].apply(lambda x: calc_percent(x))[4:]\n",
    "print(percent_per_day)"
   ]
  },
  {
   "cell_type": "code",
   "execution_count": 15,
   "metadata": {},
   "outputs": [
    {
     "data": {
      "image/png": "[encoded data removed]",
      "text/plain": [
       "<Figure size 1080x720 with 1 Axes>"
      ]
     },
     "metadata": {
      "needs_background": "light"
     },
     "output_type": "display_data"
    }
   ],
   "source": [
    "plt.figure(figsize=(15,10))\n",
    "plt.plot(percent_per_day.index, percent_per_day.values)\n",
    "plt.xlabel('Date'); plt.ylabel('% of Headlines Containing Coronavirus')\n",
    "plt.show()"
   ]
  },
  {
   "cell_type": "code",
   "execution_count": 16,
   "metadata": {},
   "outputs": [
    {
     "name": "stdout",
     "output_type": "stream",
     "text": [
      "('coronavirus', 1882)\n",
      "('to', 1840)\n",
      "('the', 1326)\n",
      "('in', 811)\n",
      "('for', 746)\n",
      "('and', 688)\n",
      "('of', 674)\n",
      "('as', 659)\n",
      "('says', 658)\n",
      "('a', 602)\n",
      "('is', 454)\n",
      "('on', 402)\n",
      "('new', 353)\n",
      "('us', 353)\n",
      "('market', 344)\n",
      "('stocks', 315)\n",
      "('more', 306)\n",
      "('are', 305)\n",
      "('live', 304)\n",
      "('trump', 273)\n",
      "('updates', 268)\n",
      "('after', 267)\n",
      "('stock', 264)\n",
      "('with', 256)\n",
      "('will', 256)\n",
      "('from', 252)\n",
      "('dow', 237)\n",
      "('pandemic', 199)\n",
      "('up', 194)\n",
      "('could', 176)\n"
     ]
    }
   ],
   "source": [
    "# Show total word counts across all headlines\n",
    "word_counts(df['headline'])"
   ]
  },
  {
   "cell_type": "code",
   "execution_count": null,
   "metadata": {},
   "outputs": [],
   "source": []
  }
 ],
 "metadata": {
  "kernelspec": {
   "display_name": "Python 3",
   "language": "python",
   "name": "python3"
  },
  "language_info": {
   "codemirror_mode": {
    "name": "ipython",
    "version": 3
   },
   "file_extension": ".py",
   "mimetype": "text/x-python",
   "name": "python",
   "nbconvert_exporter": "python",
   "pygments_lexer": "ipython3",
   "version": "3.7.3"
  }
 },
 "nbformat": 4,
 "nbformat_minor": 2
}
