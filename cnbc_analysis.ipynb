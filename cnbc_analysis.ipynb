{
 "cells": [
  {
   "cell_type": "code",
   "execution_count": 1,
   "metadata": {},
   "outputs": [],
   "source": [
    "import pandas as pd\n",
    "import matplotlib.pyplot as plt\n",
    "import datetime\n",
    "from sklearn.linear_model import LinearRegression\n",
    "from sklearn import metrics\n",
    "import numpy as np"
   ]
  },
  {
   "cell_type": "code",
   "execution_count": 2,
   "metadata": {},
   "outputs": [],
   "source": [
    "def tokenize(s):\n",
    "    '''\n",
    "    Input: \n",
    "        String\n",
    "    Output: \n",
    "        List of Strings\n",
    "    \n",
    "    '''\n",
    "    return s.split()\n",
    "\n",
    "def preprocess(s, lower=True, strip_punc=True):\n",
    "    '''\n",
    "    Input: String, lower(Bool), strip_punc(Bool)\n",
    "    Output: List of Strings\n",
    "    '''\n",
    "    punc = '.-,?<>:;\"\\'!%'\n",
    "    if isinstance(s, str):\n",
    "        s = tokenize(s)\n",
    "    if lower:\n",
    "        s = [t.lower() for t in s]\n",
    "    if strip_punc:\n",
    "        s = [t.strip(punc) for t in s]\n",
    "        \n",
    "    return s\n",
    "\n",
    "def token_frequency(tokens, tf= None, relative=False):\n",
    "    \"\"\"\n",
    "    Inputs: \n",
    "        tokens = List of Strings or None\n",
    "        tf = dict or None\n",
    "        relative = Boolean\n",
    "    Output: \n",
    "        Dictionary of a token frequencies\n",
    "    \"\"\"\n",
    "    tf = {} if tf==None else tf\n",
    "    \n",
    "    if len(tf) != 0 and relative==True:\n",
    "        if isinstance(list(tf.items())[0][1], float):\n",
    "            print('WARNING: Adding raw counts to relative frequency')\n",
    "            return tf\n",
    "        \n",
    "    for token in tokens:\n",
    "        if token in tf:\n",
    "            tf[token] += 1\n",
    "        else:\n",
    "            tf[token] = 1\n",
    "    \n",
    "    if relative:\n",
    "        total = sum([v for k,v in tf.items()])\n",
    "        tf = {k:v/total for k, v in tf.items()}\n",
    "          \n",
    "    return tf\n",
    "\n",
    "\n",
    "def calc_percent(headlines):\n",
    "    total = len(headlines)\n",
    "    count = 0\n",
    "    for h in headlines:\n",
    "        if 'coronavirus' in h:\n",
    "            count += 1\n",
    "    return round(count/total * 100, 2)"
   ]
  },
  {
   "cell_type": "code",
   "execution_count": 3,
   "metadata": {},
   "outputs": [
    {
     "data": {
      "text/html": [
       "<div>\n",
       "<style scoped>\n",
       "    .dataframe tbody tr th:only-of-type {\n",
       "        vertical-align: middle;\n",
       "    }\n",
       "\n",
       "    .dataframe tbody tr th {\n",
       "        vertical-align: top;\n",
       "    }\n",
       "\n",
       "    .dataframe thead th {\n",
       "        text-align: right;\n",
       "    }\n",
       "</style>\n",
       "<table border=\"1\" class=\"dataframe\">\n",
       "  <thead>\n",
       "    <tr style=\"text-align: right;\">\n",
       "      <th></th>\n",
       "      <th>publish_date</th>\n",
       "      <th>headline</th>\n",
       "    </tr>\n",
       "  </thead>\n",
       "  <tbody>\n",
       "    <tr>\n",
       "      <th>240</th>\n",
       "      <td>2020-03-11</td>\n",
       "      <td>[coronavirus, fallout, at, least, 150, compani...</td>\n",
       "    </tr>\n",
       "    <tr>\n",
       "      <th>241</th>\n",
       "      <td>2020-03-11</td>\n",
       "      <td>[fed, boosts, money, it's, providing, to, bank...</td>\n",
       "    </tr>\n",
       "    <tr>\n",
       "      <th>242</th>\n",
       "      <td>2020-03-11</td>\n",
       "      <td>[10-year, treasury, yield, rises, slightly, in...</td>\n",
       "    </tr>\n",
       "    <tr>\n",
       "      <th>243</th>\n",
       "      <td>2020-03-11</td>\n",
       "      <td>[putin, takes, a, big, step, closer, to, being...</td>\n",
       "    </tr>\n",
       "    <tr>\n",
       "      <th>244</th>\n",
       "      <td>2020-03-11</td>\n",
       "      <td>[white, house, task, force, recommends, anti-c...</td>\n",
       "    </tr>\n",
       "  </tbody>\n",
       "</table>\n",
       "</div>"
      ],
      "text/plain": [
       "    publish_date                                           headline\n",
       "240   2020-03-11  [coronavirus, fallout, at, least, 150, compani...\n",
       "241   2020-03-11  [fed, boosts, money, it's, providing, to, bank...\n",
       "242   2020-03-11  [10-year, treasury, yield, rises, slightly, in...\n",
       "243   2020-03-11  [putin, takes, a, big, step, closer, to, being...\n",
       "244   2020-03-11  [white, house, task, force, recommends, anti-c..."
      ]
     },
     "execution_count": 3,
     "metadata": {},
     "output_type": "execute_result"
    }
   ],
   "source": [
    "# read in wsj articles\n",
    "df = pd.read_csv('cnbc_news.csv',parse_dates=['publish_date'], index_col='publish_date').reset_index()\n",
    "\n",
    "# drop any rows with null\n",
    "df = df.dropna()\n",
    "\n",
    "df['headline'] = df['headline'].apply(lambda x: preprocess(x))\n",
    "df.tail()"
   ]
  },
  {
   "cell_type": "code",
   "execution_count": 4,
   "metadata": {},
   "outputs": [
    {
     "data": {
      "text/plain": [
       "publish_date\n",
       "2020-02-25      0.00\n",
       "2020-03-02    100.00\n",
       "2020-03-08     33.33\n",
       "2020-03-09     43.14\n",
       "2020-03-10     43.10\n",
       "2020-03-11     46.92\n",
       "Name: headline, dtype: float64"
      ]
     },
     "execution_count": 4,
     "metadata": {},
     "output_type": "execute_result"
    }
   ],
   "source": [
    "df.groupby('publish_date')['headline'].apply(lambda x: calc_percent(x))"
   ]
  },
  {
   "cell_type": "code",
   "execution_count": 5,
   "metadata": {},
   "outputs": [
    {
     "data": {
      "text/plain": [
       "45.31"
      ]
     },
     "execution_count": 5,
     "metadata": {},
     "output_type": "execute_result"
    }
   ],
   "source": [
    "total = df.shape[0]\n",
    "count = 0\n",
    "for i in range(total):\n",
    "    if 'coronavirus' in df.loc[i,'headline']:\n",
    "        count += 1\n",
    "round(count/total * 100, 2)"
   ]
  },
  {
   "cell_type": "code",
   "execution_count": null,
   "metadata": {},
   "outputs": [],
   "source": []
  },
  {
   "cell_type": "code",
   "execution_count": null,
   "metadata": {},
   "outputs": [],
   "source": []
  }
 ],
 "metadata": {
  "kernelspec": {
   "display_name": "Python 3",
   "language": "python",
   "name": "python3"
  },
  "language_info": {
   "codemirror_mode": {
    "name": "ipython",
    "version": 3
   },
   "file_extension": ".py",
   "mimetype": "text/x-python",
   "name": "python",
   "nbconvert_exporter": "python",
   "pygments_lexer": "ipython3",
   "version": "3.7.3"
  }
 },
 "nbformat": 4,
 "nbformat_minor": 2
}
